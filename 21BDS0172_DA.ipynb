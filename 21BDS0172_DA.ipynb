{
  "nbformat": 4,
  "nbformat_minor": 0,
  "metadata": {
    "colab": {
      "provenance": [],
      "authorship_tag": "ABX9TyPtgPqR4m0ODQE5I4mwKQSr",
      "include_colab_link": true
    },
    "kernelspec": {
      "name": "python3",
      "display_name": "Python 3"
    },
    "language_info": {
      "name": "python"
    }
  },
  "cells": [
    {
      "cell_type": "markdown",
      "metadata": {
        "id": "view-in-github",
        "colab_type": "text"
      },
      "source": [
        "<a href=\"https://colab.research.google.com/github/SHREYA2505/Eda_TheoryDA/blob/main/21BDS0172_DA.ipynb\" target=\"_parent\"><img src=\"https://colab.research.google.com/assets/colab-badge.svg\" alt=\"Open In Colab\"/></a>"
      ]
    },
    {
      "cell_type": "code",
      "execution_count": 1,
      "metadata": {
        "colab": {
          "base_uri": "https://localhost:8080/"
        },
        "id": "LT5tIjYtPHjY",
        "outputId": "18914f2c-5385-4a14-d626-95dac172a89c"
      },
      "outputs": [
        {
          "output_type": "stream",
          "name": "stdout",
          "text": [
            "PININTI SHREYA\n",
            "21BDS0172\n"
          ]
        }
      ],
      "source": [
        "print(\"PININTI SHREYA\")\n",
        "print(\"21BDS0172\")"
      ]
    },
    {
      "cell_type": "code",
      "source": [],
      "metadata": {
        "id": "PKi5CSZAPMRZ"
      },
      "execution_count": null,
      "outputs": []
    }
  ]
}